{
 "cells": [
  {
   "cell_type": "markdown",
   "metadata": {},
   "source": [
    "# Genome Informatics (基因體資訊) 2020. Homework assignment 20200408"
   ]
  },
  {
   "cell_type": "code",
   "execution_count": 1,
   "metadata": {},
   "outputs": [],
   "source": [
    "import numpy as np\n",
    "import pandas as pd\n",
    "import math\n",
    "from datetime import datetime\n",
    "import tracemalloc  \n",
    "import time  "
   ]
  },
  {
   "cell_type": "code",
   "execution_count": 2,
   "metadata": {},
   "outputs": [],
   "source": [
    "tracemalloc.start()\n",
    "start=datetime.now()"
   ]
  },
  {
   "cell_type": "code",
   "execution_count": 3,
   "metadata": {},
   "outputs": [],
   "source": [
    "train_start_index = 100000\n",
    "train_end_index = 1099999+1\n",
    "test_start_index = 1100000\n",
    "test_end_index = 2099999+1\n",
    "test2_start_index = 100000\n",
    "test2_end_index = 1099999+1\n",
    "size = 1000000\n",
    "file_name = \"GRCh38_latest_genomic.fna\"\n",
    "new_file_name = \"chromosome_6.txt\""
   ]
  },
  {
   "cell_type": "markdown",
   "metadata": {},
   "source": [
    "Extract entry NC_000006.12 Homo sapiens chromosome 6, GRCh38.p13 Primary Assembly."
   ]
  },
  {
   "cell_type": "code",
   "execution_count": 4,
   "metadata": {},
   "outputs": [],
   "source": [
    "f = open(new_file_name, \"r\")\n",
    "read_text = f.read(test_end_index)\n",
    "f.close()"
   ]
  },
  {
   "cell_type": "code",
   "execution_count": 5,
   "metadata": {},
   "outputs": [],
   "source": [
    "f = open(file_name, \"r\")\n",
    "chromosome = f.readline()\n",
    "while 1:\n",
    "    t = f.readline().rstrip('\\n')\n",
    "    if \"chromosome\" in t:\n",
    "        chromosome = t\n",
    "        break\n",
    "# chromosome = f.readline()\n",
    "read_text_testing = \"\"\n",
    "while 1:\n",
    "    t = f.readline().rstrip('\\n')\n",
    "    if \"chromosome\" in t:\n",
    "        break\n",
    "    read_text_testing += t\n",
    "f.close()"
   ]
  },
  {
   "cell_type": "markdown",
   "metadata": {},
   "source": [
    "Extract bases [100,000–1,099,999]; starting with ttggtaccat and ending in TAATTGCAGT. Denote this as S.  \n",
    "For simplicity map all letters to lower case; i.e. A-->a, C-->c, etc."
   ]
  },
  {
   "cell_type": "code",
   "execution_count": 6,
   "metadata": {},
   "outputs": [
    {
     "name": "stdout",
     "output_type": "stream",
     "text": [
      ">NT_187361.1 Homo sapiens chromosome 1 unlocalized genomic scaffold, GRCh38.p13 Primary Assembly HSCHR1_CTG1_UNLOCALIZED\n",
      "{'g', 'T', 't', 'G', 'a', 'c', 'A', 'C'}\n"
     ]
    }
   ],
   "source": [
    "print(chromosome)\n",
    "print(set(read_text_testing))\n"
   ]
  },
  {
   "cell_type": "code",
   "execution_count": 7,
   "metadata": {},
   "outputs": [],
   "source": [
    "S = read_text[train_start_index:train_end_index].lower()\n",
    "S_test = read_text[test_start_index:test_end_index].lower()\n",
    "testing_text = read_text_testing[test2_start_index:test2_end_index].lower()"
   ]
  },
  {
   "cell_type": "code",
   "execution_count": 8,
   "metadata": {},
   "outputs": [],
   "source": [
    "markov_test = S_test[0:100]"
   ]
  },
  {
   "cell_type": "code",
   "execution_count": 9,
   "metadata": {},
   "outputs": [
    {
     "name": "stdout",
     "output_type": "stream",
     "text": [
      "{'c', 'a', 'g', 't'}\n",
      "{'c', 'a', 'g', 't'}\n"
     ]
    }
   ],
   "source": [
    "print(set(S))\n",
    "print(set(testing_text))"
   ]
  },
  {
   "cell_type": "markdown",
   "metadata": {},
   "source": [
    "##  Markov models of order 0"
   ]
  },
  {
   "cell_type": "code",
   "execution_count": 10,
   "metadata": {},
   "outputs": [],
   "source": [
    "count_dict = {}\n",
    "for i in set(S):\n",
    "    count_dict[i] = 0\n",
    "for i in S:\n",
    "    count_dict[i] += 1\n",
    "    \n",
    "# count the number of occurrences\n",
    "total_count = 0\n",
    "for i in count_dict.values():\n",
    "    total_count += i\n",
    "    \n",
    "# probability\n",
    "prob_dict = {}\n",
    "for i in set(S):\n",
    "    prob_dict[i] = count_dict[i]/total_count\n",
    "# print(prob_dict)\n",
    "markov_1 = count_dict "
   ]
  },
  {
   "cell_type": "code",
   "execution_count": 11,
   "metadata": {},
   "outputs": [
    {
     "name": "stdout",
     "output_type": "stream",
     "text": [
      "the log base 2 probability of order 0 Markov model generating bases [100,000–1,099,999]: -1987487.013403616\n",
      "the log base 2 probability of order 0 Markov model generating bases [1,100,000–2,099,999]: -1986855.279184155\n",
      "the log base 2 probability of order 0 Markov model generating >NT_187361.1 Homo sapiens chromosome 1 unlocalized genomic scaffold, GRCh38.p13 Primary Assembly HSCHR1_CTG1_UNLOCALIZED bases [100000–1099999]: -148850.35756241082\n"
     ]
    }
   ],
   "source": [
    "S_probability = 0\n",
    "for i in S:\n",
    "    S_probability += math.log(prob_dict[i],2)\n",
    "print(\"the log base 2 probability of order 0 Markov model generating bases [100,000–1,099,999]: {}\".format(S_probability))\n",
    "S_probability = 0\n",
    "for i in S_test:\n",
    "    S_probability += math.log(prob_dict[i],2)\n",
    "print(\"the log base 2 probability of order 0 Markov model generating bases [1,100,000–2,099,999]: {}\".format(S_probability))\n",
    "\n",
    "S_probability = 0\n",
    "for i in testing_text:\n",
    "    S_probability += math.log(prob_dict[i],2)\n",
    "print(\"the log base 2 probability of order 0 Markov model generating {} bases [{}–{}]: {}\".format(chromosome, test2_start_index, test2_end_index-1, S_probability))\n"
   ]
  },
  {
   "cell_type": "markdown",
   "metadata": {},
   "source": [
    "##  Markov models of order 1"
   ]
  },
  {
   "cell_type": "code",
   "execution_count": 12,
   "metadata": {},
   "outputs": [
    {
     "name": "stdout",
     "output_type": "stream",
     "text": [
      "count_dict\n",
      "{'c': {'c': 56880, 'a': 75233, 'g': 14069, 't': 71900}, 'a': {'c': 52640, 'a': 91564, 'g': 70846, 't': 69346}, 'g': {'c': 47870, 'a': 60579, 'g': 56449, 't': 51309}, 't': {'c': 60692, 'a': 57020, 'g': 74843, 't': 88759}}\n",
      "prob_dict\n",
      "{'c': {'c': 0.05688005688005688, 'a': 0.07523307523307524, 'g': 0.014069014069014068, 't': 0.0719000719000719}, 'a': {'c': 0.05264005264005264, 'a': 0.09156409156409157, 'g': 0.07084607084607085, 't': 0.06934606934606935}, 'g': {'c': 0.04787004787004787, 'a': 0.06057906057906058, 'g': 0.05644905644905645, 't': 0.05130905130905131}, 't': {'c': 0.06069206069206069, 'a': 0.05702005702005702, 'g': 0.07484307484307484, 't': 0.08875908875908876}}\n"
     ]
    }
   ],
   "source": [
    "# init\n",
    "count_dict = {}\n",
    "for i in set(S):\n",
    "    tmp_count_dict = {}\n",
    "    for j in set(S):\n",
    "        tmp_count_dict[j] = 0\n",
    "    count_dict[i] = tmp_count_dict\n",
    "pre_char = \"F\"\n",
    "for i in S:\n",
    "    if not pre_char == \"F\":\n",
    "        count_dict[pre_char][i] += 1\n",
    "    pre_char = i\n",
    "print(\"count_dict\")\n",
    "print(count_dict)\n",
    "\n",
    "# count the number of occurrences\n",
    "total_count = 0\n",
    "for i in count_dict.values():\n",
    "    for j in i.values():\n",
    "        total_count += j\n",
    "        \n",
    "# probability\n",
    "prob_dict = {}\n",
    "for i in set(S):\n",
    "    tmp_prob_dict = {}\n",
    "    for j in set(S):\n",
    "        tmp_prob_dict[j] = count_dict[i][j]/total_count\n",
    "    prob_dict[i] = tmp_prob_dict\n",
    "\n",
    "print(\"prob_dict\")\n",
    "print(prob_dict)"
   ]
  },
  {
   "cell_type": "code",
   "execution_count": 13,
   "metadata": {},
   "outputs": [
    {
     "name": "stdout",
     "output_type": "stream",
     "text": [
      "the log base 2 probability of order 1 Markov model generating bases [100,000–199,999]: -3932505.4760067393\n",
      "the log base 2 probability of order 1 Markov model generating bases [1,100,000–2,099,999]: -3932053.910575677\n",
      "the log base 2 probability of order 1 Markov model generating >NT_187361.1 Homo sapiens chromosome 1 unlocalized genomic scaffold, GRCh38.p13 Primary Assembly HSCHR1_CTG1_UNLOCALIZED bases [100000–1099999]: -294763.4161986726\n"
     ]
    }
   ],
   "source": [
    "S_probability = 0\n",
    "pre_char = S[0]\n",
    "for i in S[1:]:\n",
    "    S_probability += math.log(prob_dict[pre_char][i],2)\n",
    "    pre_char = i\n",
    "print(\"the log base 2 probability of order 1 Markov model generating bases [100,000–199,999]: {}\".format(S_probability))\n",
    "\n",
    "S_probability = 0\n",
    "pre_char = S_test[0]\n",
    "for i in S_test[1:]:\n",
    "    S_probability += math.log(prob_dict[pre_char][i],2)\n",
    "    pre_char = i\n",
    "print(\"the log base 2 probability of order 1 Markov model generating bases [1,100,000–2,099,999]: {}\".format(S_probability))\n",
    "\n",
    "S_probability = 0\n",
    "pre_char = testing_text[0]\n",
    "for i in testing_text[1:]:\n",
    "    S_probability += math.log(prob_dict[pre_char][i],2)\n",
    "    pre_char = i\n",
    "print(\"the log base 2 probability of order 1 Markov model generating {} bases [{}–{}]: {}\".format(chromosome, test2_start_index, test2_end_index-1, S_probability))\n"
   ]
  },
  {
   "cell_type": "markdown",
   "metadata": {},
   "source": [
    "##  Markov models of order 2"
   ]
  },
  {
   "cell_type": "code",
   "execution_count": 14,
   "metadata": {},
   "outputs": [
    {
     "name": "stdout",
     "output_type": "stream",
     "text": [
      "count_dict\n",
      "{'c': {'c': {'c': 14954, 'a': 19248, 'g': 4018, 't': 18660}, 'a': {'c': 17113, 'a': 17965, 'g': 22163, 't': 17992}, 'g': {'c': 3344, 'a': 3058, 'g': 3896, 't': 3771}, 't': {'c': 17915, 'a': 11760, 'g': 22739, 't': 19486}}, 'a': {'c': {'c': 12157, 'a': 20927, 'g': 3784, 't': 15772}, 'a': {'c': 14791, 'a': 35221, 'g': 19844, 't': 21708}, 'g': {'c': 15316, 'a': 21472, 'g': 18703, 't': 15355}, 't': {'c': 12830, 'a': 17005, 'g': 17851, 't': 21660}}, 'g': {'c': {'c': 13139, 'a': 15921, 'g': 3385, 't': 15425}, 'a': {'c': 10329, 'a': 20077, 'g': 17689, 't': 12484}, 'g': {'c': 13076, 'a': 16709, 'g': 14696, 't': 11968}, 't': {'c': 10074, 'a': 10320, 'g': 16814, 't': 14100}}, 't': {'c': {'c': 16630, 'a': 19137, 'g': 2882, 't': 22043}, 'a': {'c': 10407, 'a': 18301, 'g': 11150, 't': 17162}, 'g': {'c': 16134, 'a': 19340, 'g': 19154, 't': 20215}, 't': {'c': 19873, 'a': 17935, 'g': 17439, 't': 33512}}}\n",
      "prob_dict\n",
      "{'c': {'c': {'c': 0.014954029908059815, 'a': 0.01924803849607699, 'g': 0.004018008036016072, 't': 0.01866003732007464}, 'a': {'c': 0.01711303422606845, 'a': 0.01796503593007186, 'g': 0.022163044326088652, 't': 0.01799203598407197}, 'g': {'c': 0.003344006688013376, 'a': 0.003058006116012232, 'g': 0.003896007792015584, 't': 0.003771007542015084}, 't': {'c': 0.01791503583007166, 'a': 0.01176002352004704, 'g': 0.022739045478090955, 't': 0.019486038972077943}}, 'a': {'c': {'c': 0.012157024314048628, 'a': 0.020927041854083707, 'g': 0.003784007568015136, 't': 0.01577203154406309}, 'a': {'c': 0.014791029582059164, 'a': 0.03522107044214089, 'g': 0.019844039688079376, 't': 0.02170804341608683}, 'g': {'c': 0.015316030632061264, 'a': 0.02147204294408589, 'g': 0.01870303740607481, 't': 0.01535503071006142}, 't': {'c': 0.01283002566005132, 'a': 0.01700503401006802, 'g': 0.017851035702071406, 't': 0.02166004332008664}}, 'g': {'c': {'c': 0.013139026278052557, 'a': 0.015921031842063685, 'g': 0.00338500677001354, 't': 0.015425030850061701}, 'a': {'c': 0.010329020658041315, 'a': 0.02007704015408031, 'g': 0.017689035378070758, 't': 0.012484024968049937}, 'g': {'c': 0.013076026152052304, 'a': 0.016709033418066836, 'g': 0.014696029392058784, 't': 0.011968023936047872}, 't': {'c': 0.010074020148040297, 'a': 0.01032002064004128, 'g': 0.016814033628067257, 't': 0.0141000282000564}}, 't': {'c': {'c': 0.01663003326006652, 'a': 0.019137038274076548, 'g': 0.002882005764011528, 't': 0.022043044086088173}, 'a': {'c': 0.010407020814041629, 'a': 0.018301036602073203, 'g': 0.0111500223000446, 't': 0.017162034324068647}, 'g': {'c': 0.016134032268064535, 'a': 0.01934003868007736, 'g': 0.019154038308076615, 't': 0.02021504043008086}, 't': {'c': 0.019873039746079492, 'a': 0.01793503587007174, 'g': 0.017439034878069755, 't': 0.03351206702413405}}}\n"
     ]
    }
   ],
   "source": [
    "# init\n",
    "count_dict = {}\n",
    "for i in set(S):\n",
    "    tmp_count_dict = {}\n",
    "    for j in set(S):\n",
    "        tmp2_count_dict = {}\n",
    "        for k in set(S):\n",
    "            tmp2_count_dict[k] = 0\n",
    "        tmp_count_dict[j] = tmp2_count_dict\n",
    "    count_dict[i] = tmp_count_dict\n",
    "pre_char = \"F\"\n",
    "pre_pre_char = \"F\"\n",
    "for i in S:\n",
    "    if not (pre_char == \"F\" or pre_pre_char == \"F\"):\n",
    "        count_dict[pre_pre_char][pre_char][i] += 1\n",
    "    pre_pre_char = pre_char\n",
    "    pre_char = i\n",
    "print(\"count_dict\")\n",
    "print(count_dict)\n",
    "# count the number of occurrences\n",
    "total_count = 0\n",
    "for i in count_dict.values():\n",
    "    for j in i.values():\n",
    "        for k in j.values():\n",
    "            total_count += k\n",
    "# probability\n",
    "prob_dict = {}\n",
    "for i in set(S):\n",
    "    tmp_prob_dict = {}\n",
    "    for j in set(S):\n",
    "        tmp2_prob_dict = {}\n",
    "        for k in set(S):\n",
    "            tmp2_prob_dict[k] = count_dict[i][j][k]/total_count\n",
    "        tmp_prob_dict[j] = tmp2_prob_dict   \n",
    "    prob_dict[i] = tmp_prob_dict\n",
    "print(\"prob_dict\")\n",
    "print(prob_dict)"
   ]
  },
  {
   "cell_type": "code",
   "execution_count": 15,
   "metadata": {},
   "outputs": [
    {
     "name": "stdout",
     "output_type": "stream",
     "text": [
      "the log base 2 probability of order 2 Markov model generating bases [100,000–199,999]: -5865356.202508941\n",
      "the log base 2 probability of order 2 Markov model generating bases [1,100,000–2,099,999]: -5865131.653288243\n",
      "the log base 2 probability of order 2 Markov model generating >NT_187361.1 Homo sapiens chromosome 1 unlocalized genomic scaffold, GRCh38.p13 Primary Assembly HSCHR1_CTG1_UNLOCALIZED bases [100000–1099999]: -439887.7625512469\n"
     ]
    }
   ],
   "source": [
    "S_probability = 0\n",
    "pre_char = S[0]\n",
    "prepre_char = S[1]\n",
    "for i in S[2:]:\n",
    "    S_probability += math.log(prob_dict[prepre_char][pre_char][i],2)\n",
    "    prepre_char = pre_char\n",
    "    pre_char = i\n",
    "print(\"the log base 2 probability of order 2 Markov model generating bases [100,000–199,999]: {}\".format(S_probability))\n",
    "S_probability = 0\n",
    "pre_char = S_test[0]\n",
    "prepre_char = S_test[1]\n",
    "for i in S_test[2:]:\n",
    "    S_probability += math.log(prob_dict[prepre_char][pre_char][i],2)\n",
    "    prepre_char = pre_char\n",
    "    pre_char = i\n",
    "print(\"the log base 2 probability of order 2 Markov model generating bases [1,100,000–2,099,999]: {}\".format(S_probability))\n",
    "\n",
    "S_probability = 0\n",
    "pre_char = testing_text[0]\n",
    "prepre_char = testing_text[1]\n",
    "for i in testing_text[2:]:\n",
    "    S_probability += math.log(prob_dict[prepre_char][pre_char][i],2)\n",
    "    prepre_char = pre_char\n",
    "    pre_char = i\n",
    "print(\"the log base 2 probability of order 2 Markov model generating {} bases [{}–{}]: {}\".format(chromosome, test2_start_index, test2_end_index-1, S_probability))\n"
   ]
  },
  {
   "cell_type": "markdown",
   "metadata": {},
   "source": [
    "## Hidden Markov model"
   ]
  },
  {
   "cell_type": "code",
   "execution_count": 16,
   "metadata": {},
   "outputs": [
    {
     "data": {
      "text/plain": [
       "[2, 3, 4, 5, 6]"
      ]
     },
     "execution_count": 16,
     "metadata": {},
     "output_type": "execute_result"
    }
   ],
   "source": [
    "a = [1, 2,3 ,4, 5, 6, 6, 7]\n",
    "a[1:-2]"
   ]
  },
  {
   "cell_type": "code",
   "execution_count": 17,
   "metadata": {},
   "outputs": [],
   "source": [
    "def get_prob(text):\n",
    "    count_probability = {\n",
    "        \"normal\" : {\"normal\": 0,\"cg\": 0,\"aaa\":0},\n",
    "        \"cg\" : {\"normal\": 0,\"cg\": 0,\"aaa\":0},\n",
    "        \"aaa\" : {\"normal\": 0,\"cg\": 0,\"aaa\":0}\n",
    "    }\n",
    "    output_probability = {\n",
    "        \"normal\" : {\"a\": 0,\"t\": 0,\"c\":0,\"g\":0},\n",
    "        \"cg\" :  {\"a\": 0,\"t\": 0,\"c\":0,\"g\":0},\n",
    "        \"aaa\" :  {\"a\": 0,\"t\": 0,\"c\":0,\"g\":0}\n",
    "    }\n",
    "    for index, i in enumerate(text[3:-3], start=3):\n",
    "        # state aaa\n",
    "        if (text[index-3] == \"a\") and (text[index-2] == \"a\") and (text[index-1] == \"a\"):\n",
    "            if text[index] == \"a\":\n",
    "                output_probability[\"aaa\"][\"a\"] += 1\n",
    "            if text[index] == \"t\":\n",
    "                output_probability[\"aaa\"][\"t\"] += 1\n",
    "            if text[index] == \"c\":\n",
    "                output_probability[\"aaa\"][\"c\"] += 1\n",
    "            if text[index] == \"g\":\n",
    "                output_probability[\"aaa\"][\"g\"] += 1\n",
    "            if (text[index] == \"a\") and (text[index+1] == \"a\") and (text[index+2] == \"a\"):\n",
    "                count_probability[\"aaa\"][\"aaa\"] += 1\n",
    "            elif (text[index] == \"c\") and (text[index+1] == \"g\"):\n",
    "                count_probability[\"aaa\"][\"cg\"] += 1\n",
    "            else:\n",
    "                count_probability[\"aaa\"][\"normal\"] += 1\n",
    "        elif (text[index-2] == \"c\") and (text[index-1] == \"g\"):\n",
    "            if text[index] == \"a\":\n",
    "                output_probability[\"cg\"][\"a\"] += 1\n",
    "            if text[index] == \"t\":\n",
    "                output_probability[\"cg\"][\"t\"] += 1\n",
    "            if text[index] == \"c\":\n",
    "                output_probability[\"cg\"][\"c\"] += 1\n",
    "            if text[index] == \"g\":\n",
    "                output_probability[\"cg\"][\"g\"] += 1\n",
    "            if (text[index] == \"a\") and (text[index+1] == \"a\") and (text[index+2] == \"a\"):\n",
    "                count_probability[\"cg\"][\"aaa\"] += 1\n",
    "            elif (text[index] == \"c\") and (text[index+1] == \"g\"):\n",
    "                count_probability[\"cg\"][\"cg\"] += 1\n",
    "            else:\n",
    "                count_probability[\"cg\"][\"normal\"] += 1\n",
    "        else:\n",
    "            if text[index] == \"a\":\n",
    "                output_probability[\"normal\"][\"a\"] += 1\n",
    "            if text[index] == \"t\":\n",
    "                output_probability[\"normal\"][\"t\"] += 1\n",
    "            if text[index] == \"c\":\n",
    "                output_probability[\"normal\"][\"c\"] += 1\n",
    "            if text[index] == \"g\":\n",
    "                output_probability[\"normal\"][\"g\"] += 1\n",
    "            if (text[index] == \"a\") and (text[index+1] == \"a\") and (text[index+2] == \"a\"):\n",
    "                count_probability[\"normal\"][\"aaa\"] += 1\n",
    "            elif (text[index] == \"c\") and (text[index+1] == \"g\"):\n",
    "                count_probability[\"normal\"][\"cg\"] += 1\n",
    "            else:\n",
    "                count_probability[\"normal\"][\"normal\"] += 1\n",
    "#     print(count_probability)        \n",
    "        \n",
    "    for k in count_probability.keys():\n",
    "        v_sum = sum(count_probability[k].values())\n",
    "        for k2 in count_probability[k].keys():\n",
    "            count_probability[k][k2] = math.log(count_probability[k][k2]/v_sum ,2)\n",
    "#     print(count_probability)        \n",
    "    for k in output_probability.keys():\n",
    "        v_sum = sum(output_probability[k].values())\n",
    "        for k2 in output_probability[k].keys():\n",
    "            output_probability[k][k2] = math.log(output_probability[k][k2]/v_sum , 2)\n",
    "    return count_probability, output_probability"
   ]
  },
  {
   "cell_type": "code",
   "execution_count": 18,
   "metadata": {},
   "outputs": [],
   "source": [
    "def hiddenmarkov(S):\n",
    "    tran_prob, out_prob = get_prob(S)\n",
    "    now_state = \"\"\n",
    "    max_p = -1000000\n",
    "    for index, i in enumerate(S):\n",
    "        if index == 0:\n",
    "            for k in out_prob.keys():\n",
    "                if max_p < out_prob[k][i]:\n",
    "                    now_state = k\n",
    "                    max_p = out_prob[k][i]\n",
    "        else:\n",
    "            tmp_state = \"\"\n",
    "            tmp_max_p = -1000000\n",
    "            for k in tran_prob[now_state].keys():\n",
    "                tmp = tran_prob[now_state][k] + out_prob[k][i]\n",
    "                if tmp_max_p < tmp:\n",
    "                    tmp_max_p = tmp\n",
    "                    tmp_state = k\n",
    "            now_state = tmp_state\n",
    "            max_p += tmp_max_p\n",
    "    return max_p"
   ]
  },
  {
   "cell_type": "code",
   "execution_count": 19,
   "metadata": {},
   "outputs": [
    {
     "name": "stdout",
     "output_type": "stream",
     "text": [
      "the log base 2 probability of Hidden Markov model generating bases [100,000–1,099,999]: -2058702.295249597\n",
      "the log base 2 probability of Hidden Markov model generating bases [1,100,000–2,099,999]: -2061644.2097264999\n",
      "the log base 2 probability of Hidden Markov model generating >NT_187361.1 Homo sapiens chromosome 1 unlocalized genomic scaffold, GRCh38.p13 Primary Assembly HSCHR1_CTG1_UNLOCALIZED bases [100000–1099999]: -154260.93062852055\n"
     ]
    }
   ],
   "source": [
    "p = hiddenmarkov(S)\n",
    "print(\"the log base 2 probability of Hidden Markov model generating bases [100,000–1,099,999]: {}\".format(p))\n",
    "\n",
    "p = hiddenmarkov(S_test)\n",
    "print(\"the log base 2 probability of Hidden Markov model generating bases [1,100,000–2,099,999]: {}\".format(p))\n",
    "\n",
    "p = hiddenmarkov(testing_text)\n",
    "print(\"the log base 2 probability of Hidden Markov model generating {} bases [{}–{}]: {}\".format(chromosome, test2_start_index, test2_end_index-1, p))\n"
   ]
  },
  {
   "cell_type": "code",
   "execution_count": 20,
   "metadata": {},
   "outputs": [
    {
     "name": "stdout",
     "output_type": "stream",
     "text": [
      "Time:  0:00:09.290300\n"
     ]
    }
   ],
   "source": [
    "stop = datetime.now()-start\n",
    "print('Time: ', stop)  "
   ]
  },
  {
   "cell_type": "code",
   "execution_count": 21,
   "metadata": {},
   "outputs": [
    {
     "name": "stdout",
     "output_type": "stream",
     "text": [
      "Current memory usage is 4.80858MB; Peak was 5.791847MB\n"
     ]
    }
   ],
   "source": [
    "time.sleep(5)  \n",
    "current, peak = tracemalloc.get_traced_memory()  \n",
    "print(f\"Current memory usage is {current / 10**6}MB; Peak was {peak / 10**6}MB\") \n",
    "tracemalloc.stop()  "
   ]
  }
 ],
 "metadata": {
  "kernelspec": {
   "display_name": "bert_speech",
   "language": "python",
   "name": "bert_speech"
  },
  "language_info": {
   "codemirror_mode": {
    "name": "ipython",
    "version": 3
   },
   "file_extension": ".py",
   "mimetype": "text/x-python",
   "name": "python",
   "nbconvert_exporter": "python",
   "pygments_lexer": "ipython3",
   "version": "3.7.9"
  }
 },
 "nbformat": 4,
 "nbformat_minor": 2
}
